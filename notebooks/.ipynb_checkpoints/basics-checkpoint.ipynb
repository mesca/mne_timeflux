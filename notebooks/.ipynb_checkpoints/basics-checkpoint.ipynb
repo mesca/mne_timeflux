{
 "cells": [
  {
   "cell_type": "code",
   "execution_count": null,
   "id": "f2f13f84-71c6-42a6-a7e8-389205161264",
   "metadata": {},
   "outputs": [],
   "source": [
    "%config Completer.use_jedi = False\n",
    "%matplotlib widget"
   ]
  },
  {
   "cell_type": "code",
   "execution_count": null,
   "id": "dbdc78cc-61fc-4a2b-8b7c-bf3bfa63081b",
   "metadata": {},
   "outputs": [],
   "source": [
    "import numpy as np\n",
    "import pandas as pd\n",
    "import mne"
   ]
  },
  {
   "cell_type": "markdown",
   "id": "c2bed4c5-664e-4bf2-bd6b-1af50b4c8752",
   "metadata": {},
   "source": [
    "## Config"
   ]
  },
  {
   "cell_type": "code",
   "execution_count": null,
   "id": "e94b31c5-52dd-46a4-9f8c-9eb0c1f2dbe5",
   "metadata": {},
   "outputs": [],
   "source": [
    "fname = \"../data/example.hdf5\""
   ]
  },
  {
   "cell_type": "markdown",
   "id": "89fc9195-c6f4-4846-b527-ed08809f1af5",
   "metadata": {},
   "source": [
    "## Load data"
   ]
  },
  {
   "cell_type": "code",
   "execution_count": null,
   "id": "3869c1b3-c680-4d58-94ca-1432080b3641",
   "metadata": {},
   "outputs": [],
   "source": [
    "store = pd.HDFStore(fname, \"r\")"
   ]
  },
  {
   "cell_type": "code",
   "execution_count": null,
   "id": "0d0ab3be-97b7-4921-887b-f50be5cdbc4e",
   "metadata": {},
   "outputs": [],
   "source": [
    "for key in store.keys():\n",
    "    print(key)"
   ]
  },
  {
   "cell_type": "code",
   "execution_count": null,
   "id": "9d0b1f27-a4fe-4285-be90-19981a22fa01",
   "metadata": {},
   "outputs": [],
   "source": [
    "events = store.select(\"events\")\n",
    "signal = store.select(\"eeg\")"
   ]
  },
  {
   "cell_type": "markdown",
   "id": "2b93ef3b-4a5b-4bb4-90c6-85515337ad24",
   "metadata": {},
   "source": [
    "## Convert to MNE"
   ]
  },
  {
   "cell_type": "markdown",
   "id": "94cb345c-2775-4478-87c1-ec8808266686",
   "metadata": {},
   "source": [
    "### Extract annotations"
   ]
  },
  {
   "cell_type": "code",
   "execution_count": null,
   "id": "6eeeb0b2-0edb-4eaa-aaeb-34f987b335bd",
   "metadata": {},
   "outputs": [],
   "source": [
    "labels = events['label'].values\n",
    "onsets = events.index.values.astype(np.int64) * 1e-9\n",
    "annotations = mne.Annotations(onsets, 0, labels, orig_time=0)\n",
    "annotations"
   ]
  },
  {
   "cell_type": "markdown",
   "id": "ab04ac1c-1f0d-40f9-a52c-e5cd7bd5ab37",
   "metadata": {},
   "source": [
    "### Extract signal info"
   ]
  },
  {
   "cell_type": "code",
   "execution_count": null,
   "id": "49dc9915-cd7e-441c-a24e-28cbcbd84cdc",
   "metadata": {},
   "outputs": [],
   "source": [
    "channels = list(signal.columns.values)\n",
    "times = signal.index.values.astype(np.int64) * 1e-9\n",
    "data = signal.values.T * 1e-6\n",
    "rate = store.get_node(\"eeg\")._v_attrs['meta']['rate']"
   ]
  },
  {
   "cell_type": "markdown",
   "id": "fc92f455-e07d-4872-9419-840266575acd",
   "metadata": {},
   "source": [
    "### Create MNE object"
   ]
  },
  {
   "cell_type": "code",
   "execution_count": null,
   "id": "56823422-a088-42ba-b7ae-a58a6e242f80",
   "metadata": {},
   "outputs": [],
   "source": [
    "info = mne.create_info(ch_names=channels, sfreq=rate, ch_types='eeg')\n",
    "info.set_montage('standard_1020')\n",
    "raw = mne.io.RawArray(data, info)\n",
    "raw._filenames = [fname] # Hotfix: see https://github.com/mne-tools/mne-python/issues/9385\n",
    "raw.set_meas_date(times[0])\n",
    "raw.set_annotations(annotations)"
   ]
  },
  {
   "cell_type": "markdown",
   "id": "d2c16edf-fb2b-41f2-ad76-1e8cf1f9e8d6",
   "metadata": {},
   "source": [
    "## Filtering"
   ]
  },
  {
   "cell_type": "code",
   "execution_count": null,
   "id": "9f5b6aed-8fc8-40c1-8bdd-31150412229d",
   "metadata": {},
   "outputs": [],
   "source": [
    "raw.notch_filter(50, method=\"iir\")\n",
    "raw.filter(1, 40, method=\"iir\")"
   ]
  },
  {
   "cell_type": "markdown",
   "id": "bf2ab650-3d3c-43a3-8797-319d21871c43",
   "metadata": {},
   "source": [
    "## Vizualization"
   ]
  },
  {
   "cell_type": "markdown",
   "id": "012fe347-2936-470e-9f11-8a5d9563d9e0",
   "metadata": {},
   "source": [
    "### Raw signal"
   ]
  },
  {
   "cell_type": "code",
   "execution_count": null,
   "id": "238ffa46-ce88-4be7-b1d7-f6571a754993",
   "metadata": {},
   "outputs": [],
   "source": [
    "fig = raw.plot() "
   ]
  },
  {
   "cell_type": "markdown",
   "id": "7447a7aa-0a6b-4885-a07c-8f7913781c13",
   "metadata": {},
   "source": [
    "### Power spectrum"
   ]
  },
  {
   "cell_type": "code",
   "execution_count": null,
   "id": "23ef3d4b-1bdc-4ca0-9302-af321c3d9f4b",
   "metadata": {},
   "outputs": [],
   "source": [
    "fig = raw.plot_psd(fmax=40)"
   ]
  },
  {
   "cell_type": "code",
   "execution_count": null,
   "id": "f359e520-371a-4a18-91e2-8f786d5d8623",
   "metadata": {},
   "outputs": [],
   "source": []
  }
 ],
 "metadata": {
  "kernelspec": {
   "display_name": "Python 3",
   "language": "python",
   "name": "python3"
  },
  "language_info": {
   "codemirror_mode": {
    "name": "ipython",
    "version": 3
   },
   "file_extension": ".py",
   "mimetype": "text/x-python",
   "name": "python",
   "nbconvert_exporter": "python",
   "pygments_lexer": "ipython3",
   "version": "3.9.5"
  }
 },
 "nbformat": 4,
 "nbformat_minor": 5
}
