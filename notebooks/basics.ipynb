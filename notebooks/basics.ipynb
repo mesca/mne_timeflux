{
 "cells": [
  {
   "cell_type": "code",
   "execution_count": 1,
   "id": "f2f13f84-71c6-42a6-a7e8-389205161264",
   "metadata": {},
   "outputs": [],
   "source": [
    "%config Completer.use_jedi = False\n",
    "%matplotlib widget"
   ]
  },
  {
   "cell_type": "code",
   "execution_count": 2,
   "id": "dbdc78cc-61fc-4a2b-8b7c-bf3bfa63081b",
   "metadata": {},
   "outputs": [],
   "source": [
    "import numpy as np\n",
    "import pandas as pd\n",
    "import mne"
   ]
  },
  {
   "cell_type": "markdown",
   "id": "c2bed4c5-664e-4bf2-bd6b-1af50b4c8752",
   "metadata": {},
   "source": [
    "## Config"
   ]
  },
  {
   "cell_type": "code",
   "execution_count": 3,
   "id": "e94b31c5-52dd-46a4-9f8c-9eb0c1f2dbe5",
   "metadata": {},
   "outputs": [],
   "source": [
    "fname = \"../data/20210824-130224.hdf5\"\n",
    "device = \"eeg/1\"\n",
    "drop = [\"counter\", \"timestamp\", \"button\", \"sync\"]"
   ]
  },
  {
   "cell_type": "markdown",
   "id": "89fc9195-c6f4-4846-b527-ed08809f1af5",
   "metadata": {},
   "source": [
    "## Load data"
   ]
  },
  {
   "cell_type": "code",
   "execution_count": 4,
   "id": "3869c1b3-c680-4d58-94ca-1432080b3641",
   "metadata": {},
   "outputs": [],
   "source": [
    "store = pd.HDFStore(fname, \"r\")"
   ]
  },
  {
   "cell_type": "code",
   "execution_count": 5,
   "id": "0d0ab3be-97b7-4921-887b-f50be5cdbc4e",
   "metadata": {},
   "outputs": [
    {
     "name": "stdout",
     "output_type": "stream",
     "text": [
      "/events\n",
      "/eeg/1\n"
     ]
    }
   ],
   "source": [
    "for key in store.keys():\n",
    "    print(key)"
   ]
  },
  {
   "cell_type": "code",
   "execution_count": 14,
   "id": "9d0b1f27-a4fe-4285-be90-19981a22fa01",
   "metadata": {},
   "outputs": [],
   "source": [
    "events = store.select(\"events\")\n",
    "signal = store.select(device)"
   ]
  },
  {
   "cell_type": "code",
   "execution_count": 15,
   "id": "8cecbf29-c553-48d8-a234-4657d62fb4a5",
   "metadata": {},
   "outputs": [
    {
     "data": {
      "text/html": [
       "<div>\n",
       "<style scoped>\n",
       "    .dataframe tbody tr th:only-of-type {\n",
       "        vertical-align: middle;\n",
       "    }\n",
       "\n",
       "    .dataframe tbody tr th {\n",
       "        vertical-align: top;\n",
       "    }\n",
       "\n",
       "    .dataframe thead th {\n",
       "        text-align: right;\n",
       "    }\n",
       "</style>\n",
       "<table border=\"1\" class=\"dataframe\">\n",
       "  <thead>\n",
       "    <tr style=\"text-align: right;\">\n",
       "      <th></th>\n",
       "      <th>label</th>\n",
       "      <th>data</th>\n",
       "    </tr>\n",
       "  </thead>\n",
       "  <tbody>\n",
       "    <tr>\n",
       "      <th>2021-08-24 13:03:19.571000000</th>\n",
       "      <td>control_start</td>\n",
       "      <td>NaN</td>\n",
       "    </tr>\n",
       "    <tr>\n",
       "      <th>2021-08-24 13:03:32.792800049</th>\n",
       "      <td>control_stop</td>\n",
       "      <td>NaN</td>\n",
       "    </tr>\n",
       "    <tr>\n",
       "      <th>2021-08-24 13:03:44.640300049</th>\n",
       "      <td>observation</td>\n",
       "      <td>\"something happened\"</td>\n",
       "    </tr>\n",
       "    <tr>\n",
       "      <th>2021-08-24 13:03:59.594699951</th>\n",
       "      <td>meditation_start</td>\n",
       "      <td></td>\n",
       "    </tr>\n",
       "    <tr>\n",
       "      <th>2021-08-24 13:04:13.004699951</th>\n",
       "      <td>meditation_stop</td>\n",
       "      <td></td>\n",
       "    </tr>\n",
       "  </tbody>\n",
       "</table>\n",
       "</div>"
      ],
      "text/plain": [
       "                                          label                  data\n",
       "2021-08-24 13:03:19.571000000     control_start                   NaN\n",
       "2021-08-24 13:03:32.792800049      control_stop                   NaN\n",
       "2021-08-24 13:03:44.640300049       observation  \"something happened\"\n",
       "2021-08-24 13:03:59.594699951  meditation_start                      \n",
       "2021-08-24 13:04:13.004699951   meditation_stop                      "
      ]
     },
     "execution_count": 15,
     "metadata": {},
     "output_type": "execute_result"
    }
   ],
   "source": [
    "events"
   ]
  },
  {
   "cell_type": "code",
   "execution_count": 7,
   "id": "999f44e9-03df-420e-9bd2-b36e568def9c",
   "metadata": {},
   "outputs": [],
   "source": [
    "signal = signal.drop(columns=drop)"
   ]
  },
  {
   "cell_type": "markdown",
   "id": "2b93ef3b-4a5b-4bb4-90c6-85515337ad24",
   "metadata": {},
   "source": [
    "## Convert to MNE"
   ]
  },
  {
   "cell_type": "markdown",
   "id": "94cb345c-2775-4478-87c1-ec8808266686",
   "metadata": {},
   "source": [
    "### Extract annotations"
   ]
  },
  {
   "cell_type": "code",
   "execution_count": 8,
   "id": "6eeeb0b2-0edb-4eaa-aaeb-34f987b335bd",
   "metadata": {},
   "outputs": [
    {
     "data": {
      "text/plain": [
       "<Annotations | 5 segments: control_start (1), control_stop (1), ...>"
      ]
     },
     "execution_count": 8,
     "metadata": {},
     "output_type": "execute_result"
    }
   ],
   "source": [
    "labels = events['label'].values\n",
    "onsets = events.index.values.astype(np.int64) * 1e-9\n",
    "annotations = mne.Annotations(onsets, 0, labels, orig_time=0)\n",
    "annotations"
   ]
  },
  {
   "cell_type": "markdown",
   "id": "ab04ac1c-1f0d-40f9-a52c-e5cd7bd5ab37",
   "metadata": {},
   "source": [
    "### Extract signal info"
   ]
  },
  {
   "cell_type": "code",
   "execution_count": 9,
   "id": "49dc9915-cd7e-441c-a24e-28cbcbd84cdc",
   "metadata": {},
   "outputs": [],
   "source": [
    "channels = list(signal.columns.values)\n",
    "times = signal.index.values.astype(np.int64) * 1e-9\n",
    "data = signal.values.T * 1e-6\n",
    "rate = store.get_node(device)._v_attrs['meta']['rate']"
   ]
  },
  {
   "cell_type": "markdown",
   "id": "fc92f455-e07d-4872-9419-840266575acd",
   "metadata": {},
   "source": [
    "### Create MNE object"
   ]
  },
  {
   "cell_type": "code",
   "execution_count": 10,
   "id": "56823422-a088-42ba-b7ae-a58a6e242f80",
   "metadata": {},
   "outputs": [
    {
     "data": {
      "text/html": [
       "\n",
       "\n",
       "<table class=\"table table-hover\">\n",
       "    <tr>\n",
       "        <th>Measurement date</th>\n",
       "        <td>August 24, 2021  13:02:24 GMT</td>\n",
       "        \n",
       "    </tr>\n",
       "    <tr>\n",
       "        <th>Experimenter</th>\n",
       "<td>Unknown</td>\n",
       "    </tr>\n",
       "        <th>Participant</th>\n",
       "<td>Unknown</td>\n",
       "    </tr>\n",
       "    <tr>\n",
       "        <th>Digitized points</th>\n",
       "        <td>21 points</td>\n",
       "    </tr>\n",
       "    <tr>\n",
       "        <th>Good channels</th>\n",
       "        <td>0 magnetometer, 0 gradiometer,\n",
       "            18 EEG channels, and 0 fNIRS channels.</td>\n",
       "    </tr>\n",
       "    <tr>\n",
       "        <th>Bad channels</th>\n",
       "        <td></td>\n",
       "        \n",
       "    </tr>\n",
       "    <tr>\n",
       "        <th>EOG channels</th>\n",
       "        <td>Not available</td>\n",
       "    </tr>\n",
       "    <tr>\n",
       "        <th>ECG channels</th>\n",
       "        <td>Not available</td>\n",
       "    <tr>\n",
       "        <th>Sampling frequency</th>\n",
       "        <td>512.00 Hz</td>\n",
       "    </tr>\n",
       "    <tr>\n",
       "        <th>Highpass</th>\n",
       "        <td>0.00 Hz</td>\n",
       "    </tr>\n",
       "    <tr>\n",
       "        <th>Lowpass</th>\n",
       "        <td>256.00 Hz</td>\n",
       "    </tr>\n",
       "\n",
       "    <tr>\n",
       "        <th>Filenames</th>\n",
       "        <td>20210824-130224.hdf5</td>\n",
       "    </tr>\n",
       "    <tr>\n",
       "        <th>Duration</th>\n",
       "        <td>00:02:10 (HH:MM:SS)</td>\n",
       "    </tr>\n",
       "</table>\n"
      ],
      "text/plain": [
       "<RawArray | 20210824-130224.hdf5, 18 x 66596 (130.1 s), ~9.2 MB, data loaded>"
      ]
     },
     "execution_count": 10,
     "metadata": {},
     "output_type": "execute_result"
    }
   ],
   "source": [
    "info = mne.create_info(ch_names=channels, sfreq=rate, ch_types='eeg')\n",
    "info.set_montage('standard_1020')\n",
    "raw = mne.io.RawArray(data, info)\n",
    "raw._filenames = [fname] # Hotfix: see https://github.com/mne-tools/mne-python/issues/9385\n",
    "raw.set_meas_date(times[0])\n",
    "raw.set_annotations(annotations)"
   ]
  },
  {
   "cell_type": "markdown",
   "id": "d2c16edf-fb2b-41f2-ad76-1e8cf1f9e8d6",
   "metadata": {},
   "source": [
    "## Filtering"
   ]
  },
  {
   "cell_type": "code",
   "execution_count": 11,
   "id": "9f5b6aed-8fc8-40c1-8bdd-31150412229d",
   "metadata": {},
   "outputs": [
    {
     "data": {
      "text/html": [
       "\n",
       "\n",
       "<table class=\"table table-hover\">\n",
       "    <tr>\n",
       "        <th>Measurement date</th>\n",
       "        <td>August 24, 2021  13:02:24 GMT</td>\n",
       "        \n",
       "    </tr>\n",
       "    <tr>\n",
       "        <th>Experimenter</th>\n",
       "<td>Unknown</td>\n",
       "    </tr>\n",
       "        <th>Participant</th>\n",
       "<td>Unknown</td>\n",
       "    </tr>\n",
       "    <tr>\n",
       "        <th>Digitized points</th>\n",
       "        <td>21 points</td>\n",
       "    </tr>\n",
       "    <tr>\n",
       "        <th>Good channels</th>\n",
       "        <td>0 magnetometer, 0 gradiometer,\n",
       "            18 EEG channels, and 0 fNIRS channels.</td>\n",
       "    </tr>\n",
       "    <tr>\n",
       "        <th>Bad channels</th>\n",
       "        <td></td>\n",
       "        \n",
       "    </tr>\n",
       "    <tr>\n",
       "        <th>EOG channels</th>\n",
       "        <td>Not available</td>\n",
       "    </tr>\n",
       "    <tr>\n",
       "        <th>ECG channels</th>\n",
       "        <td>Not available</td>\n",
       "    <tr>\n",
       "        <th>Sampling frequency</th>\n",
       "        <td>512.00 Hz</td>\n",
       "    </tr>\n",
       "    <tr>\n",
       "        <th>Highpass</th>\n",
       "        <td>1.00 Hz</td>\n",
       "    </tr>\n",
       "    <tr>\n",
       "        <th>Lowpass</th>\n",
       "        <td>40.00 Hz</td>\n",
       "    </tr>\n",
       "\n",
       "    <tr>\n",
       "        <th>Filenames</th>\n",
       "        <td>20210824-130224.hdf5</td>\n",
       "    </tr>\n",
       "    <tr>\n",
       "        <th>Duration</th>\n",
       "        <td>00:02:10 (HH:MM:SS)</td>\n",
       "    </tr>\n",
       "</table>\n"
      ],
      "text/plain": [
       "<RawArray | 20210824-130224.hdf5, 18 x 66596 (130.1 s), ~9.2 MB, data loaded>"
      ]
     },
     "execution_count": 11,
     "metadata": {},
     "output_type": "execute_result"
    }
   ],
   "source": [
    "raw.notch_filter(50, method=\"iir\")\n",
    "raw.filter(1, 40, method=\"iir\")"
   ]
  },
  {
   "cell_type": "markdown",
   "id": "bf2ab650-3d3c-43a3-8797-319d21871c43",
   "metadata": {},
   "source": [
    "## Vizualization"
   ]
  },
  {
   "cell_type": "markdown",
   "id": "012fe347-2936-470e-9f11-8a5d9563d9e0",
   "metadata": {},
   "source": [
    "### Raw signal"
   ]
  },
  {
   "cell_type": "code",
   "execution_count": 12,
   "id": "238ffa46-ce88-4be7-b1d7-f6571a754993",
   "metadata": {},
   "outputs": [
    {
     "data": {
      "application/vnd.jupyter.widget-view+json": {
       "model_id": "2fa4005fe125454fb513a4382d656b4f",
       "version_major": 2,
       "version_minor": 0
      },
      "text/plain": [
       "Canvas(toolbar=Toolbar(toolitems=[('Home', 'Reset original view', 'home', 'home'), ('Back', 'Back to previous …"
      ]
     },
     "metadata": {},
     "output_type": "display_data"
    }
   ],
   "source": [
    "fig = raw.plot() "
   ]
  },
  {
   "cell_type": "markdown",
   "id": "7447a7aa-0a6b-4885-a07c-8f7913781c13",
   "metadata": {},
   "source": [
    "### Power spectrum"
   ]
  },
  {
   "cell_type": "code",
   "execution_count": 13,
   "id": "23ef3d4b-1bdc-4ca0-9302-af321c3d9f4b",
   "metadata": {},
   "outputs": [
    {
     "data": {
      "application/vnd.jupyter.widget-view+json": {
       "model_id": "796f37a1b4d14713be20e2837bc54541",
       "version_major": 2,
       "version_minor": 0
      },
      "text/plain": [
       "Canvas(toolbar=Toolbar(toolitems=[('Home', 'Reset original view', 'home', 'home'), ('Back', 'Back to previous …"
      ]
     },
     "metadata": {},
     "output_type": "display_data"
    }
   ],
   "source": [
    "fig = raw.plot_psd(fmax=40)"
   ]
  },
  {
   "cell_type": "code",
   "execution_count": null,
   "id": "f359e520-371a-4a18-91e2-8f786d5d8623",
   "metadata": {},
   "outputs": [],
   "source": []
  }
 ],
 "metadata": {
  "kernelspec": {
   "display_name": "Python 3",
   "language": "python",
   "name": "python3"
  },
  "language_info": {
   "codemirror_mode": {
    "name": "ipython",
    "version": 3
   },
   "file_extension": ".py",
   "mimetype": "text/x-python",
   "name": "python",
   "nbconvert_exporter": "python",
   "pygments_lexer": "ipython3",
   "version": "3.9.5"
  }
 },
 "nbformat": 4,
 "nbformat_minor": 5
}
